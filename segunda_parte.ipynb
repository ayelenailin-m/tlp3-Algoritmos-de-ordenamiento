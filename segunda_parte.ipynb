{
 "cells": [
  {
   "cell_type": "markdown",
   "id": "f64c536a",
   "metadata": {},
   "source": [
    "# Merge Sort\n",
    "\n",
    "Merge Sort es un algoritmo de ordenamiento basado en el paradigma de “divide y vencerás”. Funciona dividiendo recursivamente la lista en mitades, ordenando cada mitad, y luego fusionando las dos mitades ordenadas en una sola lista ordenada.\n",
    "\n",
    "### Pasos:\n",
    "1. Dividir la lista en dos mitades hasta que queden sublistas de un solo elemento.\n",
    "2. Ordenar recursivamente cada sublista.\n",
    "3. Combinar (merge) las sublistas ordenadas en una nueva lista ordenada.\n",
    "\n",
    "### Complejidad:\n",
    "- **Mejor caso:** O(n log n)\n",
    "- **Peor caso:** O(n log n)\n",
    "- **Espacio:** No es in-place (usa memoria extra).\n",
    "\n",
    "Es muy usado en aplicaciones donde se requiere un rendimiento consistente y estable.\n"
   ]
  },
  {
   "cell_type": "markdown",
   "id": "06826565",
   "metadata": {},
   "source": [
    "### Implementación de Merge Sort"
   ]
  },
  {
   "cell_type": "code",
   "execution_count": 1,
   "id": "9d0efff0",
   "metadata": {},
   "outputs": [],
   "source": [
    "def merge_sort(arr):\n",
    "    if len(arr) <= 1:\n",
    "        return arr\n",
    "    \n",
    "    mid = len(arr) // 2\n",
    "    izquierda = merge_sort(arr[:mid])\n",
    "    derecha = merge_sort(arr[mid:])\n",
    "    \n",
    "    return merge(izquierda, derecha)\n",
    "\n",
    "def merge(izq, der):\n",
    "    resultado = []\n",
    "    i = j = 0\n",
    "\n",
    "    while i < len(izq) and j < len(der):\n",
    "        if izq[i] <= der[j]:\n",
    "            resultado.append(izq[i])\n",
    "            i += 1\n",
    "        else:\n",
    "            resultado.append(der[j])\n",
    "            j += 1\n",
    "\n",
    "    resultado.extend(izq[i:])\n",
    "    resultado.extend(der[j:])\n",
    "    return resultado\n"
   ]
  },
  {
   "cell_type": "markdown",
   "id": "84a7dc01",
   "metadata": {},
   "source": [
    "### Comparación de rendimiento con QuickSort"
   ]
  },
  {
   "cell_type": "code",
   "execution_count": 13,
   "id": "f68af8c5",
   "metadata": {},
   "outputs": [
    {
     "name": "stdout",
     "output_type": "stream",
     "text": [
      "Merge Sort: 0.001237 segundos\n",
      "Quick Sort: 0.001036 segundos\n"
     ]
    }
   ],
   "source": [
    "import time\n",
    "import random\n",
    "\n",
    "# Generamos lista aleatoria\n",
    "tamano = 1000\n",
    "lista_original = [random.randint(0, 10000) for _ in range(tamano)]\n",
    "\n",
    "# QuickSort\n",
    "def quick_sort(arr):\n",
    "    if len(arr) <= 1:\n",
    "        return arr\n",
    "    pivote = arr[len(arr) // 2]\n",
    "    menores = [x for x in arr if x < pivote]\n",
    "    iguales = [x for x in arr if x == pivote]\n",
    "    mayores = [x for x in arr if x > pivote]\n",
    "    return quick_sort(menores) + iguales + quick_sort(mayores)\n",
    "\n",
    "# Comparación MergeSort\n",
    "lista = lista_original.copy()\n",
    "inicio = time.perf_counter()\n",
    "merge_sort(lista)\n",
    "fin = time.perf_counter()\n",
    "print(f\"Merge Sort: {fin - inicio:.6f} segundos\")\n",
    "\n",
    "# Comparación QuickSort\n",
    "lista = lista_original.copy()\n",
    "inicio = time.perf_counter()\n",
    "quick_sort(lista)\n",
    "fin = time.perf_counter()\n",
    "print(f\"Quick Sort: {fin - inicio:.6f} segundos\")\n"
   ]
  },
  {
   "cell_type": "markdown",
   "id": "5dd65f04",
   "metadata": {},
   "source": [
    "## Conclusión\n",
    "\n",
    "Al comparar Merge Sort con Quick Sort en una lista de 1000 elementos aleatorios, los tiempos fueron similares, pero en algunos casos Merge Sort fue un poco más lento.\n",
    "\n",
    "**¿Cuál fue más rápido?**\n",
    "Quick Sort fue ligeramente más rápido.\n",
    "\n",
    "**¿Te sorprendió el resultado?**\n",
    "Sí, porque esperaba que Merge Sort fuera más eficiente.\n",
    "\n",
    "**¿Te gustó el algoritmo que elegiste?**\n",
    "Sí, porque es un clásico, muy ordenado en su lógica y útil en contextos donde la estabilidad es importante.\n"
   ]
  }
 ],
 "metadata": {
  "kernelspec": {
   "display_name": "env",
   "language": "python",
   "name": "python3"
  },
  "language_info": {
   "codemirror_mode": {
    "name": "ipython",
    "version": 3
   },
   "file_extension": ".py",
   "mimetype": "text/x-python",
   "name": "python",
   "nbconvert_exporter": "python",
   "pygments_lexer": "ipython3",
   "version": "3.12.9"
  }
 },
 "nbformat": 4,
 "nbformat_minor": 5
}
