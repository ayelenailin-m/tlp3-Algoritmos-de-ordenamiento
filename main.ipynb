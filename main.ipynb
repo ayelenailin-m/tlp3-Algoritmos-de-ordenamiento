{
 "cells": [
  {
   "cell_type": "markdown",
   "id": "a8a6a158",
   "metadata": {},
   "source": [
    "# Introducción a la Optimización Algorítmica y Notación Big O\n",
    "### Algoritmos: Insertion Sort y Bubble Sort"
   ]
  },
  {
   "cell_type": "markdown",
   "id": "28d9145c",
   "metadata": {},
   "source": [
    "## 1. ¿Qué es la Notación Big O?\n",
    "\n",
    "La notación Big O (o notación de Landau) se utiliza para describir el comportamiento de un algoritmo en cuanto a su eficiencia, principalmente en el peor de los casos. Nos dice cómo crece el tiempo de ejecución o el uso de memoria en función del tamaño de entrada `n`.\n",
    "\n",
    "Por ejemplo:\n",
    "- **O(1)**: Tiempo constante\n",
    "- **O(n)**: Tiempo lineal\n",
    "- **O(n²)**: Tiempo cuadrático\n"
   ]
  },
  {
   "cell_type": "markdown",
   "id": "6f5a2358",
   "metadata": {},
   "source": [
    "# 2. Insertion Sort - Paso a Paso\n",
    "\n",
    "## ¿Cómo funciona Insertion Sort?\n",
    "\n",
    "1. Recorre el arreglo desde la posición 1 hasta el final.\n",
    "2. En cada paso, toma el elemento actual y lo compara con los elementos anteriores.\n",
    "3. Si el elemento anterior es mayor, lo mueve una posición a la derecha.\n",
    "4. Repite hasta encontrar su lugar correcto e insertarlo.\n",
    "5. Al finalizar, el arreglo está ordenado.\n",
    "\n",
    "### Complejidad:\n",
    "- Peor caso: **O(n²)** (si está en orden inverso)\n",
    "- Mejor caso: **O(n)** (si ya está ordenado)\n"
   ]
  },
  {
   "cell_type": "code",
   "execution_count": null,
   "id": "4b181421",
   "metadata": {},
   "outputs": [
    {
     "name": "stdout",
     "output_type": "stream",
     "text": [
      "Lista original: [9, 5, 1, 4, 3, 7, 12, 52, 1, 5]\n",
      "proceso: [5, 9, 1, 4, 3, 7, 12, 52, 1, 5]\n",
      "proceso: [1, 5, 9, 4, 3, 7, 12, 52, 1, 5]\n",
      "proceso: [1, 4, 5, 9, 3, 7, 12, 52, 1, 5]\n",
      "proceso: [1, 3, 4, 5, 9, 7, 12, 52, 1, 5]\n",
      "proceso: [1, 3, 4, 5, 7, 9, 12, 52, 1, 5]\n",
      "proceso: [1, 3, 4, 5, 7, 9, 12, 52, 1, 5]\n",
      "proceso: [1, 3, 4, 5, 7, 9, 12, 52, 1, 5]\n",
      "proceso: [1, 1, 3, 4, 5, 7, 9, 12, 52, 5]\n",
      "proceso: [1, 1, 3, 4, 5, 5, 7, 9, 12, 52]\n",
      "Ordenada con Insertion Sort: [1, 1, 3, 4, 5, 5, 7, 9, 12, 52]\n"
     ]
    }
   ],
   "source": [
    "def insertion_sort(arr):\n",
    "    for i in range(1, len(arr)):\n",
    "        actual = arr[i]\n",
    "        j = i - 1\n",
    "        while j >= 0 and arr[j] > actual:\n",
    "            arr[j + 1] = arr[j]\n",
    "            j -= 1\n",
    "        arr[j + 1] = actual\n",
    "        print(\"proceso:\", arr)\n",
    "    return arr\n",
    "\n",
    "lista = [9, 5, 1, 4, 3, 7, 12, 52, 1, 5]\n",
    "print(\"Lista original:\", lista)\n",
    "print(\"Ordenada con Insertion Sort:\", insertion_sort(lista.copy()))\n"
   ]
  },
  {
   "cell_type": "markdown",
   "id": "b98088fb",
   "metadata": {},
   "source": [
    "# Bubble Sort - Paso a Paso\n",
    "\n",
    "## ¿Cómo funciona Bubble Sort?\n",
    "\n",
    "1. Compara pares de elementos adyacentes.\n",
    "2. Si están en el orden incorrecto, los intercambia.\n",
    "3. Repite el proceso varias veces, pasando por todo el arreglo.\n",
    "4. Con cada pasada, el mayor se \"burbujea\" al final.\n",
    "\n",
    "### Complejidad:\n",
    "- Peor caso: **O(n²)**\n",
    "- Mejor caso: **O(n)** (si está optimizado y ya ordenado)\n"
   ]
  },
  {
   "cell_type": "code",
   "execution_count": null,
   "id": "0cb1a9ef",
   "metadata": {},
   "outputs": [
    {
     "name": "stdout",
     "output_type": "stream",
     "text": [
      "Lista original: [9, 5, 1, 4, 3, 7, 12, 52, 1, 5]\n",
      "Burbujeando: [5, 9, 1, 4, 3, 7, 12, 52, 1, 5]\n",
      "Burbujeando: [5, 1, 9, 4, 3, 7, 12, 52, 1, 5]\n",
      "Burbujeando: [5, 1, 4, 9, 3, 7, 12, 52, 1, 5]\n",
      "Burbujeando: [5, 1, 4, 3, 9, 7, 12, 52, 1, 5]\n",
      "Burbujeando: [5, 1, 4, 3, 7, 9, 12, 52, 1, 5]\n",
      "Burbujeando: [5, 1, 4, 3, 7, 9, 12, 1, 52, 5]\n",
      "Burbujeando: [5, 1, 4, 3, 7, 9, 12, 1, 5, 52]\n",
      "Burbujeando: [1, 5, 4, 3, 7, 9, 12, 1, 5, 52]\n",
      "Burbujeando: [1, 4, 5, 3, 7, 9, 12, 1, 5, 52]\n",
      "Burbujeando: [1, 4, 3, 5, 7, 9, 12, 1, 5, 52]\n",
      "Burbujeando: [1, 4, 3, 5, 7, 9, 1, 12, 5, 52]\n",
      "Burbujeando: [1, 4, 3, 5, 7, 9, 1, 5, 12, 52]\n",
      "Burbujeando: [1, 3, 4, 5, 7, 9, 1, 5, 12, 52]\n",
      "Burbujeando: [1, 3, 4, 5, 7, 1, 9, 5, 12, 52]\n",
      "Burbujeando: [1, 3, 4, 5, 7, 1, 5, 9, 12, 52]\n",
      "Burbujeando: [1, 3, 4, 5, 1, 7, 5, 9, 12, 52]\n",
      "Burbujeando: [1, 3, 4, 5, 1, 5, 7, 9, 12, 52]\n",
      "Burbujeando: [1, 3, 4, 1, 5, 5, 7, 9, 12, 52]\n",
      "Burbujeando: [1, 3, 1, 4, 5, 5, 7, 9, 12, 52]\n",
      "Burbujeando: [1, 1, 3, 4, 5, 5, 7, 9, 12, 52]\n",
      "Ordenada con Bubble Sort: [1, 1, 3, 4, 5, 5, 7, 9, 12, 52]\n"
     ]
    }
   ],
   "source": [
    "def bubble_sort(array):\n",
    "    n = len(array)\n",
    "    for i in range(n):\n",
    "        cambiado = False\n",
    "        for j in range(0, n - i - 1):\n",
    "            if array[j] > array[j + 1]:\n",
    "                array[j], array[j + 1] = array[j + 1], array[j]\n",
    "                cambiado = True\n",
    "                print(\"Burbujeando:\", array)\n",
    "        if not cambiado:\n",
    "            break\n",
    "    return array\n",
    "\n",
    "lista = [9, 5, 1, 4, 3, 7, 12, 52, 1, 5]\n",
    "print(\"Lista original:\", lista)\n",
    "print(\"Ordenada con Bubble Sort:\", bubble_sort(lista.copy()))\n"
   ]
  }
 ],
 "metadata": {
  "kernelspec": {
   "display_name": "env",
   "language": "python",
   "name": "python3"
  },
  "language_info": {
   "codemirror_mode": {
    "name": "ipython",
    "version": 3
   },
   "file_extension": ".py",
   "mimetype": "text/x-python",
   "name": "python",
   "nbconvert_exporter": "python",
   "pygments_lexer": "ipython3",
   "version": "3.12.9"
  }
 },
 "nbformat": 4,
 "nbformat_minor": 5
}
