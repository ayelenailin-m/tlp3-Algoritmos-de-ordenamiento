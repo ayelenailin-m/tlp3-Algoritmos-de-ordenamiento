{
 "cells": [
  {
   "cell_type": "markdown",
   "id": "a8a6a158",
   "metadata": {},
   "source": [
    "# Hola\n"
   ]
  }
 ],
 "metadata": {
  "language_info": {
   "name": "python"
  }
 },
 "nbformat": 4,
 "nbformat_minor": 5
}
